{
 "cells": [
  {
   "cell_type": "markdown",
   "id": "6a2f04fa",
   "metadata": {},
   "source": [
    "We shall now build and train a Convolutional Neural Network on the augmented Oxford IIIT Pet Dataset."
   ]
  },
  {
   "cell_type": "code",
   "execution_count": 73,
   "id": "699a5ae8",
   "metadata": {},
   "outputs": [],
   "source": [
    "import torch\n",
    "import skimage as ski\n",
    "import numpy as np\n",
    "from torch.utils.data import Dataset\n",
    "import os\n",
    "import pandas as pd\n",
    "from torchvision.io import read_image\n",
    "from torchvision import transforms as T\n",
    "from torch.utils.data import DataLoader\n",
    "import matplotlib.pyplot as plt\n",
    "import torch.nn as nn\n",
    "import time"
   ]
  },
  {
   "cell_type": "markdown",
   "id": "dc008cd6",
   "metadata": {},
   "source": [
    "# Data loading"
   ]
  },
  {
   "cell_type": "markdown",
   "id": "e7943f91",
   "metadata": {},
   "source": [
    "We shall use the Dataset class to build a custom dataset class inheriting from it."
   ]
  },
  {
   "cell_type": "code",
   "execution_count": 91,
   "id": "d5bc72dc",
   "metadata": {},
   "outputs": [],
   "source": [
    "class PetDataset(Dataset):\n",
    "    def __init__(self, annotations_file, img_dir, transform=None, target_transform=None):\n",
    "        self.img_annotations = pd.read_csv(annotations_file)\n",
    "        self.img_dir = img_dir\n",
    "        self.transform = transform\n",
    "        self.target_transform = target_transform\n",
    "        \n",
    "    def __len__(self):\n",
    "        return len(self.img_annotations)\n",
    "    \n",
    "    def __getitem__(self,idx):\n",
    "        img_path = os.path.join(self.img_dir,self.img_annotations.iloc[idx,0])\n",
    "        image = ski.io.imread(img_path)/255    # not using read_image coz it can only read jpeg or png\n",
    "        image = image[:,:,:3]  # dropping the alpha channel if any\n",
    "        class_label = self.img_annotations.iloc[idx,2]-1      # the -1 is coz labels are expected from 0 to C-1\n",
    "        if self.transform:\n",
    "            image = self.transform(image)\n",
    "        if self.target_transform:\n",
    "            class_label = self.target_transform(class_label)     \n",
    "        return image, class_label"
   ]
  },
  {
   "cell_type": "markdown",
   "id": "6cec6ebe",
   "metadata": {},
   "source": [
    "Let's define the transforms, read_image already reads the images as tensors so we don't need to use ToTensor, we shall only resize the images to (size,size) pixels. We shall use the NLL Loss later, this expects as target a class index ranging from 0 to C-1. So we don't need one-hot encoding for the target, but in principle we could do it as shown below. "
   ]
  },
  {
   "cell_type": "code",
   "execution_count": 92,
   "id": "bf35b87f",
   "metadata": {},
   "outputs": [],
   "source": [
    "size = 64\n",
    "resize = T.Resize(size)\n",
    "totensor = T.ToTensor()\n",
    "trans = T.Compose([totensor,resize])     # totensor has to be applied first and then resize coz the latter doesn't work on numpy arrays\n",
    "#label_transform_one_hot = T.Lambda(lambda y: torch.zeros(37, dtype=torch.float).scatter_(dim=0,index=torch.tensor(y),value=1))"
   ]
  },
  {
   "cell_type": "code",
   "execution_count": 93,
   "id": "35ebd05f",
   "metadata": {},
   "outputs": [],
   "source": [
    "train_r1 = PetDataset('annotations_aug/annotations_train_r1.csv','img_augmented_processed/', transform = trans)\n",
    "train_r2 = PetDataset('annotations_aug/annotations_train_r2.csv','img_augmented_processed/', transform = trans)\n",
    "train_r3 = PetDataset('annotations_aug/annotations_train_r3.csv','img_augmented_processed/', transform = trans)\n",
    "valid = PetDataset('annotations_aug/annotations_valid.csv','img_augmented_processed/', transform = trans)\n",
    "test = PetDataset('annotations_aug/annotations_test.csv','img_augmented_processed/', transform = trans)"
   ]
  },
  {
   "cell_type": "code",
   "execution_count": 94,
   "id": "2eb04348",
   "metadata": {},
   "outputs": [],
   "source": [
    "train_r1_loader = DataLoader(train_r1,batch_size=64,shuffle=True)\n",
    "train_r2_loader = DataLoader(train_r2,batch_size=64,shuffle=True)\n",
    "train_r3_loader = DataLoader(train_r3,batch_size=64,shuffle=True)\n",
    "valid_loader = DataLoader(valid,batch_size=64,shuffle=True)\n",
    "test_loader = DataLoader(test,batch_size=64,shuffle=True)"
   ]
  },
  {
   "cell_type": "markdown",
   "id": "59450cca",
   "metadata": {},
   "source": [
    "We can call the first batch in the following way:"
   ]
  },
  {
   "cell_type": "code",
   "execution_count": 95,
   "id": "e6ff560f",
   "metadata": {},
   "outputs": [
    {
     "name": "stdout",
     "output_type": "stream",
     "text": [
      "shape of training batch (images): torch.Size([64, 3, 64, 64])\n",
      "shape of training batch (labels): torch.Size([64])\n"
     ]
    },
    {
     "data": {
      "image/png": "[encoded data removed]",
      "text/plain": [
       "<Figure size 432x288 with 1 Axes>"
      ]
     },
     "metadata": {
      "needs_background": "light"
     },
     "output_type": "display_data"
    }
   ],
   "source": [
    "train_b1_img, train_b1_label = next(iter(train_r1_loader))\n",
    "print('shape of training batch (images): {}'.format(train_b1_img.shape))\n",
    "print('shape of training batch (labels): {}'.format(train_b1_label.shape))\n",
    "plt.imshow(train_b1_img[np.random.randint(64)].permute(1,2,0))     #plt.imshow needs the shape to be (x,y,3)\n",
    "plt.show()"
   ]
  },
  {
   "cell_type": "markdown",
   "id": "6c74a5c2",
   "metadata": {},
   "source": [
    "# Model"
   ]
  },
  {
   "cell_type": "code",
   "execution_count": 96,
   "id": "d4d4d8d4",
   "metadata": {},
   "outputs": [
    {
     "name": "stdout",
     "output_type": "stream",
     "text": [
      "PetCNN(\n",
      "  (conv1): Sequential(\n",
      "    (0): Conv2d(3, 8, kernel_size=(5, 5), stride=(1, 1))\n",
      "    (1): MaxPool2d(kernel_size=4, stride=2, padding=0, dilation=1, ceil_mode=False)\n",
      "    (2): BatchNorm2d(8, eps=1e-05, momentum=0.1, affine=True, track_running_stats=True)\n",
      "    (3): ReLU()\n",
      "  )\n",
      "  (dense1): Sequential(\n",
      "    (0): Linear(in_features=6728, out_features=37, bias=True)\n",
      "  )\n",
      ")\n"
     ]
    }
   ],
   "source": [
    "class PetCNN(nn.Module):\n",
    "    def __init__(self):\n",
    "        super().__init__()\n",
    "        \n",
    "        self.conv1 = nn.Sequential(\n",
    "                                    nn.Conv2d(in_channels=3, out_channels=8, kernel_size=5),\n",
    "                                    nn.MaxPool2d(kernel_size=4,stride=2),\n",
    "                                    nn.BatchNorm2d(8),\n",
    "                                    nn.ReLU())\n",
    "        \n",
    "        self.dense1 = nn.Sequential(\n",
    "                                    nn.Linear(int(8*29*29), 37)) \n",
    "                            \n",
    "            \n",
    "    def forward(self,x):\n",
    "        out = self.conv1(x)\n",
    "        out = out.view(out.size(0),-1)      # reshaping the output shaped (N,C,H,W) from the conv layer to (N,n_inp) for the dense layer\n",
    "        out = self.dense1(out)\n",
    "        out = nn.functional.log_softmax(out,dim=1)     #we'll use the NLL loss, so we used the log softmax function as reqd by pytorch \n",
    "        \n",
    "        return out\n",
    "    \n",
    "\n",
    "\n",
    "model = PetCNN()\n",
    "loss_function = nn.NLLLoss()\n",
    "learning_rate = 0.01\n",
    "optimizer = torch.optim.Adam(model.parameters(),lr=learning_rate)\n",
    "\n",
    "print(model)\n",
    "        "
   ]
  },
  {
   "cell_type": "code",
   "execution_count": 97,
   "id": "303d9f50",
   "metadata": {},
   "outputs": [
    {
     "name": "stdout",
     "output_type": "stream",
     "text": [
      "Time taken: 24.164999961853027\n"
     ]
    }
   ],
   "source": [
    "model.train()    # set the model in training mode coz the batchnorm layer behaves differently when using in eval mode.\n",
    "\n",
    "start = time.time()\n",
    "\n",
    "count = 0\n",
    "while count<2 :\n",
    "    for images, labels in train_r1_loader:\n",
    "        out = model(images.float())\n",
    "        loss = loss_function(out,labels)\n",
    "        \n",
    "        optimizer.zero_grad()\n",
    "        loss.backward()\n",
    "        optimizer.step()\n",
    "        \n",
    "    count += 1\n",
    "    \n",
    "end = time.time()\n",
    "print('Time taken: {}'.format(end-start))"
   ]
  },
  {
   "cell_type": "code",
   "execution_count": 106,
   "id": "43a5ad52",
   "metadata": {},
   "outputs": [
    {
     "name": "stdout",
     "output_type": "stream",
     "text": [
      "tensor(0.0938)\n",
      "tensor(0.0312)\n",
      "tensor(0.1094)\n",
      "tensor(0.0781)\n",
      "tensor(0.0625)\n",
      "tensor(0.0781)\n",
      "tensor(0.1406)\n",
      "tensor(0.0625)\n",
      "tensor(0.0781)\n",
      "tensor(0.0312)\n",
      "tensor(0.0156)\n",
      "tensor(0.0469)\n",
      "tensor(0.0312)\n",
      "tensor(0.0312)\n",
      "tensor(0.0469)\n",
      "tensor(0.0781)\n",
      "tensor(0.0312)\n",
      "tensor(0.0312)\n",
      "tensor(0.0312)\n",
      "tensor(0.0469)\n",
      "tensor(0.0625)\n",
      "tensor(0.0312)\n",
      "tensor(0.0781)\n",
      "tensor(0.)\n"
     ]
    }
   ],
   "source": [
    "model.eval()\n",
    "\n",
    "for images, labels in valid_loader:\n",
    "    out = model(images.float())\n",
    "    print((torch.max(out,1)[1]==labels).sum()/64)\n",
    "        \n",
    "                "
   ]
  },
  {
   "cell_type": "code",
   "execution_count": null,
   "id": "b052a46a",
   "metadata": {},
   "outputs": [],
   "source": []
  }
 ],
 "metadata": {
  "kernelspec": {
   "display_name": "Python 3 (ipykernel)",
   "language": "python",
   "name": "python3"
  },
  "language_info": {
   "codemirror_mode": {
    "name": "ipython",
    "version": 3
   },
   "file_extension": ".py",
   "mimetype": "text/x-python",
   "name": "python",
   "nbconvert_exporter": "python",
   "pygments_lexer": "ipython3",
   "version": "3.9.11"
  }
 },
 "nbformat": 4,
 "nbformat_minor": 5
}
