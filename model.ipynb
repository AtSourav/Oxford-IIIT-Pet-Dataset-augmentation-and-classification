{
 "cells": [
  {
   "cell_type": "markdown",
   "id": "6a2f04fa",
   "metadata": {},
   "source": [
    "We shall now build and train a Convolutional Neural Network on the augmented Oxford IIIT Pet Dataset."
   ]
  },
  {
   "cell_type": "code",
   "execution_count": 2,
   "id": "699a5ae8",
   "metadata": {},
   "outputs": [],
   "source": [
    "import torch\n",
    "import numpy as np\n",
    "from torch.utils.data import Dataset\n",
    "import os\n",
    "import pandas as pd\n",
    "from torchvision.io import read_image\n",
    "from torchvision import transforms as T"
   ]
  },
  {
   "cell_type": "markdown",
   "id": "dc008cd6",
   "metadata": {},
   "source": [
    "# Data loading"
   ]
  },
  {
   "cell_type": "markdown",
   "id": "e7943f91",
   "metadata": {},
   "source": [
    "We shall use the Dataset class to build a custom dataset class inheriting from it."
   ]
  },
  {
   "cell_type": "code",
   "execution_count": 10,
   "id": "c103aabe",
   "metadata": {},
   "outputs": [
    {
     "data": {
      "text/plain": [
       "Image file    wheaten_terrier_69.jpg\n",
       "Pet             Dog: wheaten terrier\n",
       "Class id                          36\n",
       "Species id                         2\n",
       "Breed id                          24\n",
       "Name: 2, dtype: object"
      ]
     },
     "execution_count": 10,
     "metadata": {},
     "output_type": "execute_result"
    }
   ],
   "source": [
    "ind = pd.read_csv('annotations_aug/annotations_valid.csv')\n",
    "ind.iloc[2]"
   ]
  },
  {
   "cell_type": "code",
   "execution_count": null,
   "id": "d5bc72dc",
   "metadata": {},
   "outputs": [],
   "source": [
    "class PetDataset(Dataset):\n",
    "    def __init__(self, annotations_file, img_dir, transform=None, target_transform=None):\n",
    "        self.img_annotations = pd.read_csv(annotations_file)\n",
    "        self.img_dir = img_dir\n",
    "        self.transform = transform\n",
    "        self.target_transform = target_transform\n",
    "        \n",
    "    def __len__(self):\n",
    "        return len(self.img_annotations)\n",
    "    \n",
    "    def __getitem__(self,idx):\n",
    "        img_path = os.path.join(self.img_dir,self.img_annotations.iloc[idx,0])\n",
    "        image = read_image(img_path)\n",
    "        class_label = self.img_labels.iloc[idx,2]\n",
    "        if self.transform:\n",
    "            image = self.transform(image)\n",
    "        if self.target_transform:\n",
    "            class_label = self.target_transform(class_label)\n",
    "        return image, class_label"
   ]
  }
 ],
 "metadata": {
  "kernelspec": {
   "display_name": "Python 3 (ipykernel)",
   "language": "python",
   "name": "python3"
  },
  "language_info": {
   "codemirror_mode": {
    "name": "ipython",
    "version": 3
   },
   "file_extension": ".py",
   "mimetype": "text/x-python",
   "name": "python",
   "nbconvert_exporter": "python",
   "pygments_lexer": "ipython3",
   "version": "3.9.11"
  }
 },
 "nbformat": 4,
 "nbformat_minor": 5
}
